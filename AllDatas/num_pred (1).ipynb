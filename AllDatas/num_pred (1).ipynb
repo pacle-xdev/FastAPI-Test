{
 "cells": [
  {
   "cell_type": "code",
   "execution_count": 2,
   "id": "40537850-e2bf-4156-92d1-41760ef3f155",
   "metadata": {},
   "outputs": [
    {
     "name": "stdout",
     "output_type": "stream",
     "text": [
      "Predicted 8th value is: 21.17\n",
      "Predicted 9th value is: 22.48\n",
      "Predicted 10th value is: 23.79\n"
     ]
    }
   ],
   "source": [
    "import numpy as np\n",
    "import matplotlib.pyplot as plt\n",
    "from sklearn.linear_model import LinearRegression\n",
    "\n",
    "def num_predict(value_array,to_predict):\n",
    "    X = np.array(range(len(value_array))).reshape(-1,1)\n",
    "    y = np.array(value_array).reshape(-1,1)\n",
    "    \n",
    "    reglin=LinearRegression()\n",
    "    reglin.fit(X,y)\n",
    "    pred_y= reglin.predict(to_predict)\n",
    "    \n",
    "    return pred_y\n",
    "\n",
    "input_array = [11,12.21,13.42,12.74,15.64,18.43,20.43,18.3]\n",
    "to_predict_x = np.array([8,9,10]).reshape(-1,1)\n",
    "\n",
    "predicted_y = num_predict(input_array,to_predict_x)\n",
    "for ind in range(len(to_predict_x)):\n",
    "    print(f'Predicted {to_predict_x[ind][0]}th value is: {round(predicted_y[ind][0],2)}')"
   ]
  },
  {
   "cell_type": "code",
   "execution_count": null,
   "id": "d0161a10-6815-4d32-bb53-9a58e7491837",
   "metadata": {},
   "outputs": [],
   "source": []
  }
 ],
 "metadata": {
  "kernelspec": {
   "display_name": "Python 3 (ipykernel)",
   "language": "python",
   "name": "python3"
  },
  "language_info": {
   "codemirror_mode": {
    "name": "ipython",
    "version": 3
   },
   "file_extension": ".py",
   "mimetype": "text/x-python",
   "name": "python",
   "nbconvert_exporter": "python",
   "pygments_lexer": "ipython3",
   "version": "3.9.12"
  }
 },
 "nbformat": 4,
 "nbformat_minor": 5
}
